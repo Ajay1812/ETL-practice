{
 "cells": [
  {
   "cell_type": "code",
   "execution_count": 8,
   "metadata": {},
   "outputs": [],
   "source": [
    "import requests\n",
    "from bs4 import BeautifulSoup\n",
    "import sqlite3\n",
    "import pandas as pd\n",
    "\n",
    "url = \"https://web.archive.org/web/20230902185655/https://en.everybodywiki.com/100_Most_Highly-Ranked_Films\"\n",
    "db_name = \"Movies.db\"\n",
    "table_name = \"Top_50\"\n",
    "csv_path = \"/home/project/top_50_films.csv\"\n",
    "df = pd.DataFrame(columns=[\"Average Rank\",\"Film\",\"Year\"])\n",
    "\n",
    "count = 0\n",
    "response = requests.get(url) \n",
    "# print(response.text)\n",
    "\n",
    "soup = BeautifulSoup(response.text, 'html.parser')\n",
    "tables = soup.find_all('tbody')\n",
    "rows = tables[0].find_all('tr')\n",
    "\n",
    "for row in rows:\n",
    "    if count < 50:\n",
    "        col = row.find_all('td')\n",
    "        if len(col) != 0:\n",
    "            data_dict = {\n",
    "                'Average Rank': col[0].contents[0],\n",
    "                'Film': col[1].contents[0],\n",
    "                'Year': col[2].contents[0]\n",
    "            }\n",
    "            df1 = pd.DataFrame(data_dict, index=[0])\n",
    "            df = pd.concat([df,df1], ignore_index = True)\n",
    "            count +=1\n",
    "    else:\n",
    "        break\n",
    "\n",
    "df.to_csv('Top50_films.csv', index=False)\n",
    "\n",
    "conn = sqlite3.connect(db_name)\n",
    "df.to_sql(table_name,conn,if_exists=\"replace\",index=False)\n",
    "conn.close()\n"
   ]
  },
  {
   "cell_type": "code",
   "execution_count": null,
   "metadata": {},
   "outputs": [],
   "source": []
  }
 ],
 "metadata": {
  "kernelspec": {
   "display_name": "de-venv",
   "language": "python",
   "name": "de-venv"
  },
  "language_info": {
   "codemirror_mode": {
    "name": "ipython",
    "version": 3
   },
   "file_extension": ".py",
   "mimetype": "text/x-python",
   "name": "python",
   "nbconvert_exporter": "python",
   "pygments_lexer": "ipython3",
   "version": "3.12.2"
  }
 },
 "nbformat": 4,
 "nbformat_minor": 2
}
