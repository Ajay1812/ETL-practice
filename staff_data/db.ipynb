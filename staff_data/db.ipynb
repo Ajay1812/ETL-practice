{
 "cells": [
  {
   "cell_type": "code",
   "execution_count": 1,
   "metadata": {},
   "outputs": [
    {
     "name": "stdout",
     "output_type": "stream",
     "text": [
      "--2025-01-09 13:31:52--  https://cf-courses-data.s3.us.cloud-object-storage.appdomain.cloud/IBMSkillsNetwork-PY0221EN-Coursera/labs/v2/INSTRUCTOR.csv\n",
      "Resolving cf-courses-data.s3.us.cloud-object-storage.appdomain.cloud (cf-courses-data.s3.us.cloud-object-storage.appdomain.cloud)... 198.23.119.245\n",
      "Connecting to cf-courses-data.s3.us.cloud-object-storage.appdomain.cloud (cf-courses-data.s3.us.cloud-object-storage.appdomain.cloud)|198.23.119.245|:443... connected.\n",
      "HTTP request sent, awaiting response... 200 OK\n",
      "Length: 387 [text/csv]\n",
      "Saving to: ‘INSTRUCTOR.csv’\n",
      "\n",
      "INSTRUCTOR.csv      100%[===================>]     387  --.-KB/s    in 0s      \n",
      "\n",
      "2025-01-09 13:31:54 (123 MB/s) - ‘INSTRUCTOR.csv’ saved [387/387]\n",
      "\n"
     ]
    }
   ],
   "source": [
    "!wget \"https://cf-courses-data.s3.us.cloud-object-storage.appdomain.cloud/IBMSkillsNetwork-PY0221EN-Coursera/labs/v2/INSTRUCTOR.csv\""
   ]
  },
  {
   "cell_type": "code",
   "execution_count": null,
   "metadata": {},
   "outputs": [
    {
     "name": "stdout",
     "output_type": "stream",
     "text": [
      "Table is ready!\n"
     ]
    }
   ],
   "source": [
    "import pandas as pd\n",
    "import sqlite3\n",
    "\n",
    "table_name = 'INSTRUCTOR'\n",
    "attribute_list = ['ID','FNAME','LNAME','CITY','CCODE']\n",
    "\n",
    "file_path = 'INSTRUCTOR.csv'\n",
    "df = pd.read_csv(file_path, names= attribute_list)\n",
    "\n",
    "conn = sqlite3.connect('STAFF.db')\n",
    "\n",
    "df.to_sql(table_name, conn, if_exists = \"replace\", index = False)\n",
    "print('Table is ready!')"
   ]
  },
  {
   "cell_type": "code",
   "execution_count": 4,
   "metadata": {},
   "outputs": [
    {
     "name": "stdout",
     "output_type": "stream",
     "text": [
      "SELECT * FROM INSTRUCTOR\n",
      "    ID    FNAME      LNAME      CITY CCODE\n",
      "0    1      Rav      Ahuja   TORONTO    CA\n",
      "1    2     Raul      Chong   Markham    CA\n",
      "2    3     Hima  Vasudevan   Chicago    US\n",
      "3    4     John     Thomas  Illinois    US\n",
      "4    5    Alice      James  Illinois    US\n",
      "5    6    Steve      Wells  Illinois    US\n",
      "6    7  Santosh      Kumar  Illinois    US\n",
      "7    8    Ahmed    Hussain  Illinois    US\n",
      "8    9    Nancy      Allen  Illinois    US\n",
      "9   10     Mary     Thomas  Illinois    US\n",
      "10  11  Bharath      Gupta  Illinois    US\n",
      "11  12   Andrea      Jones  Illinois    US\n",
      "12  13      Ann      Jacob  Illinois    US\n",
      "13  14     Amit      Kumar  NewDelhi    IN\n",
      "SELECT COUNT(*) FROM INSTRUCTOR\n",
      "Rows Count:    COUNT(*)\n",
      "0        14\n"
     ]
    }
   ],
   "source": [
    "query = f\"SELECT * FROM {table_name}\"\n",
    "output = pd.read_sql(query, conn)\n",
    "print(query)\n",
    "print(output)\n",
    "\n",
    "query_count_row = f\"SELECT COUNT(*) FROM {table_name}\"\n",
    "output = pd.read_sql(query_count_row, conn)\n",
    "print(query_count_row)\n",
    "print(\"Rows Count:\",output)"
   ]
  },
  {
   "cell_type": "code",
   "execution_count": 5,
   "metadata": {},
   "outputs": [
    {
     "name": "stdout",
     "output_type": "stream",
     "text": [
      "--2025-01-09 13:38:57--  https://cf-courses-data.s3.us.cloud-object-storage.appdomain.cloud/IBMSkillsNetwork-PY0221EN-Coursera/labs/v2/Departments.csv\n",
      "Resolving cf-courses-data.s3.us.cloud-object-storage.appdomain.cloud (cf-courses-data.s3.us.cloud-object-storage.appdomain.cloud)... 169.63.118.104\n",
      "Connecting to cf-courses-data.s3.us.cloud-object-storage.appdomain.cloud (cf-courses-data.s3.us.cloud-object-storage.appdomain.cloud)|169.63.118.104|:443... connected.\n",
      "HTTP request sent, awaiting response... 200 OK\n",
      "Length: 88 [text/csv]\n",
      "Saving to: ‘Departments.csv’\n",
      "\n",
      "Departments.csv     100%[===================>]      88  --.-KB/s    in 0s      \n",
      "\n",
      "2025-01-09 13:38:59 (28.0 MB/s) - ‘Departments.csv’ saved [88/88]\n",
      "\n"
     ]
    }
   ],
   "source": [
    "!wget \"https://cf-courses-data.s3.us.cloud-object-storage.appdomain.cloud/IBMSkillsNetwork-PY0221EN-Coursera/labs/v2/Departments.csv\""
   ]
  },
  {
   "cell_type": "code",
   "execution_count": 8,
   "metadata": {},
   "outputs": [
    {
     "data": {
      "text/plain": [
       "3"
      ]
     },
     "execution_count": 8,
     "metadata": {},
     "output_type": "execute_result"
    }
   ],
   "source": [
    "department_table = 'DEPARTMENTS'\n",
    "attribute_list = [\"DEPT_ID\", \"DEP_NAME\",\"MANAGER_ID\",\"LOC_ID\"]\n",
    "\n",
    "df = pd.read_csv('Departments.csv', names = attribute_list)\n",
    "\n",
    "df.to_sql(department_table, conn,if_exists=\"replace\",index=False)"
   ]
  },
  {
   "cell_type": "code",
   "execution_count": 9,
   "metadata": {},
   "outputs": [
    {
     "name": "stdout",
     "output_type": "stream",
     "text": [
      "SELECT * FROM DEPARTMENTS\n",
      "   DEPT_ID         DEP_NAME  MANAGER_ID LOC_ID\n",
      "0        2  Architect Group       30001  L0001\n",
      "1        5   Software Group       30002  L0002\n",
      "2        7      Design Team       30003  L0003\n",
      "SELECT COUNT(*) FROM DEPARTMENTS\n",
      "Rows Count:    COUNT(*)\n",
      "0         3\n"
     ]
    }
   ],
   "source": [
    "query = f\"SELECT * FROM {department_table}\"\n",
    "output = pd.read_sql(query, conn)\n",
    "print(query)\n",
    "print(output)\n",
    "\n",
    "query_count_row = f\"SELECT COUNT(*) FROM {department_table}\"\n",
    "output = pd.read_sql(query_count_row, conn)\n",
    "print(query_count_row)\n",
    "print(\"Rows Count:\",output)"
   ]
  },
  {
   "cell_type": "code",
   "execution_count": null,
   "metadata": {},
   "outputs": [],
   "source": []
  }
 ],
 "metadata": {
  "kernelspec": {
   "display_name": "de-venv",
   "language": "python",
   "name": "de-venv"
  },
  "language_info": {
   "codemirror_mode": {
    "name": "ipython",
    "version": 3
   },
   "file_extension": ".py",
   "mimetype": "text/x-python",
   "name": "python",
   "nbconvert_exporter": "python",
   "pygments_lexer": "ipython3",
   "version": "3.12.2"
  }
 },
 "nbformat": 4,
 "nbformat_minor": 2
}
